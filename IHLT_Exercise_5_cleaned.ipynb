{
 "cells": [
  {
   "cell_type": "code",
   "execution_count": 1,
   "metadata": {
    "colab": {
     "base_uri": "https://localhost:8080/",
     "height": 0
    },
    "id": "xVUmAsOlJTeR",
    "outputId": "3eaf25e9-54c7-41e0-8f7b-8a378e420fc6"
   },
   "outputs": [
    {
     "name": "stdout",
     "output_type": "stream",
     "text": [
      "Found existing installation: torch 2.4.1\n",
      "Uninstalling torch-2.4.1:\n",
      "  Successfully uninstalled torch-2.4.1\n",
      "Found existing installation: torchvision 0.19.1\n",
      "Uninstalling torchvision-0.19.1:\n",
      "  Successfully uninstalled torchvision-0.19.1\n",
      "Found existing installation: torchaudio 2.4.1\n",
      "Uninstalling torchaudio-2.4.1:\n",
      "  Successfully uninstalled torchaudio-2.4.1\n",
      "Looking in indexes: https://download.pytorch.org/whl/cpu\n",
      "Collecting torch==2.0.1\n",
      "  Downloading https://download.pytorch.org/whl/cpu/torch-2.0.1%2Bcpu-cp38-cp38-win_amd64.whl (174.1 MB)\n",
      "     ------------------------------------- 174.1/174.1 MB 16.9 MB/s eta 0:00:00\n",
      "Collecting torchvision==0.15.2\n",
      "  Downloading https://download.pytorch.org/whl/cpu/torchvision-0.15.2%2Bcpu-cp38-cp38-win_amd64.whl (1.2 MB)\n",
      "     ---------------------------------------- 1.2/1.2 MB 2.7 MB/s eta 0:00:00\n",
      "Collecting torchaudio==2.0.2\n",
      "  Downloading https://download.pytorch.org/whl/cpu/torchaudio-2.0.2%2Bcpu-cp38-cp38-win_amd64.whl (2.1 MB)\n",
      "     ---------------------------------------- 2.1/2.1 MB 3.2 MB/s eta 0:00:00\n",
      "Requirement already satisfied: filelock in c:\\users\\asus\\appdata\\local\\programs\\python\\python38\\lib\\site-packages (from torch==2.0.1) (3.16.1)\n",
      "Requirement already satisfied: typing-extensions in c:\\users\\asus\\appdata\\local\\programs\\python\\python38\\lib\\site-packages (from torch==2.0.1) (4.12.2)\n",
      "Requirement already satisfied: sympy in c:\\users\\asus\\appdata\\local\\programs\\python\\python38\\lib\\site-packages (from torch==2.0.1) (1.13.3)\n",
      "Requirement already satisfied: networkx in c:\\users\\asus\\appdata\\local\\programs\\python\\python38\\lib\\site-packages (from torch==2.0.1) (3.1)\n",
      "Requirement already satisfied: jinja2 in c:\\users\\asus\\appdata\\local\\programs\\python\\python38\\lib\\site-packages (from torch==2.0.1) (3.1.4)\n",
      "Requirement already satisfied: numpy in c:\\users\\asus\\appdata\\local\\programs\\python\\python38\\lib\\site-packages (from torchvision==0.15.2) (1.24.4)\n",
      "Requirement already satisfied: requests in c:\\users\\asus\\appdata\\local\\programs\\python\\python38\\lib\\site-packages (from torchvision==0.15.2) (2.32.3)\n",
      "Requirement already satisfied: pillow!=8.3.*,>=5.3.0 in c:\\users\\asus\\appdata\\local\\programs\\python\\python38\\lib\\site-packages (from torchvision==0.15.2) (10.4.0)\n",
      "Requirement already satisfied: MarkupSafe>=2.0 in c:\\users\\asus\\appdata\\local\\programs\\python\\python38\\lib\\site-packages (from jinja2->torch==2.0.1) (2.1.5)\n",
      "Requirement already satisfied: charset-normalizer<4,>=2 in c:\\users\\asus\\appdata\\local\\programs\\python\\python38\\lib\\site-packages (from requests->torchvision==0.15.2) (3.4.1)\n",
      "Requirement already satisfied: idna<4,>=2.5 in c:\\users\\asus\\appdata\\local\\programs\\python\\python38\\lib\\site-packages (from requests->torchvision==0.15.2) (3.10)\n",
      "Requirement already satisfied: urllib3<3,>=1.21.1 in c:\\users\\asus\\appdata\\local\\programs\\python\\python38\\lib\\site-packages (from requests->torchvision==0.15.2) (2.2.3)\n",
      "Requirement already satisfied: certifi>=2017.4.17 in c:\\users\\asus\\appdata\\local\\programs\\python\\python38\\lib\\site-packages (from requests->torchvision==0.15.2) (2024.12.14)\n",
      "Requirement already satisfied: mpmath<1.4,>=1.1.0 in c:\\users\\asus\\appdata\\local\\programs\\python\\python38\\lib\\site-packages (from sympy->torch==2.0.1) (1.3.0)\n",
      "Installing collected packages: torch, torchvision, torchaudio\n",
      "Successfully installed torch-2.0.1+cpu torchaudio-2.0.2+cpu torchvision-0.15.2+cpu\n"
     ]
    },
    {
     "name": "stderr",
     "output_type": "stream",
     "text": [
      "\n",
      "[notice] A new release of pip is available: 25.0 -> 25.0.1\n",
      "[notice] To update, run: python.exe -m pip install --upgrade pip\n"
     ]
    }
   ],
   "source": [
    "!pip uninstall -y torch torchvision torchaudio\n",
    "!pip install torch==2.0.1 torchvision==0.15.2 torchaudio==2.0.2 --index-url https://download.pytorch.org/whl/cpu\n",
    "!pip install datasets -q\n"
   ]
  },
  {
   "cell_type": "code",
   "execution_count": 2,
   "metadata": {
    "id": "uXprUy7-JUbi"
   },
   "outputs": [
    {
     "name": "stderr",
     "output_type": "stream",
     "text": [
      "C:\\Users\\Asus\\AppData\\Local\\Programs\\Python\\Python310\\lib\\site-packages\\tqdm\\auto.py:22: TqdmWarning: IProgress not found. Please update jupyter and ipywidgets. See https://ipywidgets.readthedocs.io/en/stable/user_install.html\n",
      "  from .autonotebook import tqdm as notebook_tqdm\n"
     ]
    },
    {
     "ename": "ModuleNotFoundError",
     "evalue": "No module named 'datasets'",
     "output_type": "error",
     "traceback": [
      "\u001b[1;31m---------------------------------------------------------------------------\u001b[0m",
      "\u001b[1;31mModuleNotFoundError\u001b[0m                       Traceback (most recent call last)",
      "Input \u001b[1;32mIn [2]\u001b[0m, in \u001b[0;36m<cell line: 4>\u001b[1;34m()\u001b[0m\n\u001b[0;32m      2\u001b[0m \u001b[38;5;28;01mimport\u001b[39;00m \u001b[38;5;21;01mtorch\u001b[39;00m\u001b[38;5;21;01m.\u001b[39;00m\u001b[38;5;21;01mnn\u001b[39;00m \u001b[38;5;28;01mas\u001b[39;00m \u001b[38;5;21;01mnn\u001b[39;00m\n\u001b[0;32m      3\u001b[0m \u001b[38;5;28;01mimport\u001b[39;00m \u001b[38;5;21;01mtorch\u001b[39;00m\u001b[38;5;21;01m.\u001b[39;00m\u001b[38;5;21;01moptim\u001b[39;00m \u001b[38;5;28;01mas\u001b[39;00m \u001b[38;5;21;01moptim\u001b[39;00m\n\u001b[1;32m----> 4\u001b[0m \u001b[38;5;28;01mfrom\u001b[39;00m \u001b[38;5;21;01mdatasets\u001b[39;00m \u001b[38;5;28;01mimport\u001b[39;00m load_dataset\n\u001b[0;32m      5\u001b[0m \u001b[38;5;28;01mfrom\u001b[39;00m \u001b[38;5;21;01msklearn\u001b[39;00m\u001b[38;5;21;01m.\u001b[39;00m\u001b[38;5;21;01mmetrics\u001b[39;00m \u001b[38;5;28;01mimport\u001b[39;00m accuracy_score\n\u001b[0;32m      6\u001b[0m \u001b[38;5;28;01mfrom\u001b[39;00m \u001b[38;5;21;01mcollections\u001b[39;00m \u001b[38;5;28;01mimport\u001b[39;00m Counter\n",
      "\u001b[1;31mModuleNotFoundError\u001b[0m: No module named 'datasets'"
     ]
    }
   ],
   "source": [
    "import torch\n",
    "import torch.nn as nn\n",
    "import torch.optim as optim\n",
    "from datasets import load_dataset\n",
    "from sklearn.metrics import accuracy_score\n",
    "from collections import Counter\n",
    "from itertools import chain\n",
    "import numpy as np"
   ]
  },
  {
   "cell_type": "code",
   "execution_count": null,
   "metadata": {
    "id": "uTq0bvDyJpaE"
   },
   "outputs": [],
   "source": [
    "# Load the IMDB dataset\n",
    "imdb = load_dataset(\"imdb\")"
   ]
  },
  {
   "cell_type": "code",
   "execution_count": null,
   "metadata": {
    "id": "HF2CbE4jKzHI"
   },
   "outputs": [],
   "source": [
    "# Improved tokenizer with basic preprocessing (lowercasing, alphabetic filtering)\n",
    "def simple_tokenizer(text):\n",
    "    text = text.lower()\n",
    "    tokens = re.findall(r'\\b[a-z]{3,}\\b', text)  # keep only words with 3+ letters\n",
    "    return tokens"
   ]
  },
  {
   "cell_type": "code",
   "execution_count": null,
   "metadata": {
    "id": "d77DclzeK6tx"
   },
   "outputs": [],
   "source": [
    "# Filter vocabulary with frequency cutoff\n",
    "MIN_FREQ = 5\n",
    "counter = Counter(chain.from_iterable(simple_tokenizer(example['text']) for example in imdb['train']))\n",
    "filtered = {word: freq for word, freq in counter.items() if freq >= MIN_FREQ}\n",
    "vocab = {word: i+2 for i, word in enumerate(filtered)}  # +2 for pad and unk\n",
    "vocab['[PAD]'] = 0\n",
    "vocab['[UNK]'] = 1\n",
    "inv_vocab = {i: w for w, i in vocab.items()}"
   ]
  },
  {
   "cell_type": "code",
   "execution_count": null,
   "metadata": {
    "colab": {
     "base_uri": "https://localhost:8080/",
     "height": 113,
     "referenced_widgets": [
      "19ee35c55a5241598827f4e00ef35607",
      "208572317d54496d87b20299e0399ed4",
      "096ea25a57e64af2aed7cb14dc7cd98c",
      "1c4460efdb7e4c1ebf3e3165617db741",
      "bd90f843be4640e0b4f8d9dc5017a03a",
      "e37d39cf387b4570a2ee3fe1cc444e5a",
      "fc1ba4106c034692ae57d646d0602ecd",
      "479f9b63d09a4be28756fb1201d33e79",
      "a109fd14846e47858ce982dc7e7155e7",
      "78cfc902b9e148ae84c358b6c630e29e",
      "be90a45daefb420fa8d6877310da4086",
      "50a07cb27cbe44a1bdf1b18c3e1ea4b8",
      "e308f962daa844d880ac2511bcd4611a",
      "06521f1bace24156b6e31272bb8655ba",
      "24a0c386b4a6425d990fdd99a7a66694",
      "168ee0c1c5234fd7a241efa6c3f865a5",
      "20d741f1155e4a77a54469742f7eac02",
      "4e8f72f59f0f41a6bc3297744618c675",
      "fff9535a8e634ca5b66b4b94225a93e6",
      "cf26ca3a9bba4a44b3b8b69bf67d6738",
      "20c680cba39f480c840a8cb6351ff37f",
      "ed3c191b4e274efba96358ddfb53ed5e",
      "1b234d555d124afcb5f1b69b4b1f1166",
      "a6fc91697051478cb8da3057e449a877",
      "52d90252c64447fc8e87a5d2a9a9c5a9",
      "7699d149b2e34d24af94c2df44b7dd0a",
      "d41369dcc604450ea1c28f910705583e",
      "90f35705360b4488a0da61c2486d4e27",
      "27e42c4e0a1047f0b40aa7337e633e1e",
      "8bb0eb854e414fe8b5c25e230be00ce0",
      "58f89274ad664919a120936ca72b88c6",
      "4e88409d57804148b35c99e39fe9eb3c",
      "90055810a2c747a1b106fd2447000349"
     ]
    },
    "id": "8JAf1nXmJvaD",
    "outputId": "44798235-e270-49c8-e9cb-c52d6b7da25d"
   },
   "outputs": [],
   "source": [
    "# Tokenization and Encoding\n",
    "def encode(example):\n",
    "    tokens = simple_tokenizer(example['text'])\n",
    "    ids = [vocab.get(token, vocab['[UNK]']) for token in tokens]\n",
    "    return {'input_ids': ids, 'label': example['label']}\n",
    "\n",
    "tokenized_imdb = imdb.map(encode, remove_columns=['text'])"
   ]
  },
  {
   "cell_type": "code",
   "execution_count": null,
   "metadata": {
    "id": "Ou9_X8JeJx20"
   },
   "outputs": [],
   "source": [
    "# Padding\n",
    "def pad(batch):\n",
    "    max_len = max(len(x) for x in batch['input_ids'])\n",
    "    padded = [x + [vocab['[PAD]']] * (max_len - len(x)) for x in batch['input_ids']]\n",
    "    return {'input_ids': torch.tensor(padded), 'labels': torch.tensor(batch['label'])}"
   ]
  },
  {
   "cell_type": "code",
   "execution_count": null,
   "metadata": {
    "id": "n2BxTFf8Jzuy"
   },
   "outputs": [],
   "source": [
    "# Dataset Wrapper\n",
    "from torch.utils.data import Dataset, DataLoader\n",
    "\n",
    "class IMDbDataset(Dataset):\n",
    "    def __init__(self, encodings):\n",
    "        self.encodings = encodings\n",
    "\n",
    "    def __getitem__(self, idx):\n",
    "        item = {\n",
    "            'input_ids': self.encodings['input_ids'][idx],\n",
    "            'labels': self.encodings['labels'][idx]\n",
    "        }\n",
    "        return item\n",
    "\n",
    "    def __len__(self):\n",
    "        return len(self.encodings['input_ids'])"
   ]
  },
  {
   "cell_type": "code",
   "execution_count": null,
   "metadata": {
    "id": "lB51dqi9J3_R"
   },
   "outputs": [],
   "source": [
    "# Pad and wrap datasets\n",
    "train_dataset = pad(tokenized_imdb['train'])\n",
    "test_dataset = pad(tokenized_imdb['test'])\n",
    "train_dataset = IMDbDataset(train_dataset)\n",
    "test_dataset = IMDbDataset(test_dataset)\n",
    "\n",
    "train_loader = DataLoader(train_dataset, batch_size=32, shuffle=True)\n",
    "test_loader = DataLoader(test_dataset, batch_size=64)"
   ]
  },
  {
   "cell_type": "code",
   "execution_count": null,
   "metadata": {
    "id": "dONEH4eVJ7DA"
   },
   "outputs": [],
   "source": [
    "# Linear Classifier\n",
    "class LinearSentimentClassifier(nn.Module):\n",
    "    def __init__(self, vocab_size):\n",
    "        super().__init__()\n",
    "        self.embedding = nn.Embedding(vocab_size, 1)\n",
    "\n",
    "    def forward(self, input_ids):\n",
    "        embedded = self.embedding(input_ids).sum(dim=1).squeeze(1)\n",
    "        return torch.sigmoid(embedded)"
   ]
  },
  {
   "cell_type": "code",
   "execution_count": null,
   "metadata": {
    "colab": {
     "base_uri": "https://localhost:8080/",
     "height": 0
    },
    "id": "FkIO5DbKKC7B",
    "outputId": "088f2021-396f-44a3-e12a-22129760083c"
   },
   "outputs": [],
   "source": [
    "# Updated Model with Bias and Init Fixes\n",
    "class LinearSentimentClassifier(nn.Module):\n",
    "    def __init__(self, vocab_size):\n",
    "        super().__init__()\n",
    "        self.embedding = nn.Embedding(vocab_size, 1)\n",
    "        self.bias = nn.Parameter(torch.zeros(1))\n",
    "        nn.init.uniform_(self.embedding.weight, -0.1, 0.1)\n",
    "\n",
    "    def forward(self, input_ids):\n",
    "        embedded = self.embedding(input_ids).sum(dim=1).squeeze(1)\n",
    "        logits = embedded + self.bias\n",
    "        return torch.sigmoid(logits)\n",
    "\n",
    "# Train Function with Debug Logging\n",
    "model = LinearSentimentClassifier(len(vocab))\n",
    "criterion = nn.BCELoss()\n",
    "optimizer = optim.Adam(model.parameters())\n",
    "\n",
    "def train():\n",
    "    model.train()\n",
    "    for epoch in range(4):\n",
    "        total_loss = 0.0\n",
    "        correct = 0\n",
    "        total = 0\n",
    "        for i, batch in enumerate(train_loader):\n",
    "            optimizer.zero_grad()\n",
    "            inputs = batch['input_ids']\n",
    "            labels = batch['labels'].float()\n",
    "\n",
    "            # Clamp to avoid index errors\n",
    "            inputs = torch.clamp(inputs, max=len(vocab)-1)\n",
    "\n",
    "            outputs = model(inputs)\n",
    "\n",
    "            # Binary predictions for accuracy\n",
    "            preds = (outputs >= 0.5).float()\n",
    "            correct += (preds == labels).sum().item()\n",
    "            total += labels.size(0)\n",
    "\n",
    "            loss = criterion(outputs, labels)\n",
    "            loss.backward()\n",
    "            optimizer.step()\n",
    "            total_loss += loss.item()\n",
    "\n",
    "            # Debug info every 200 batches\n",
    "            if i % 200 == 0:\n",
    "                print(f\"  Batch {i}, Loss: {loss.item():.4f}, Outputs avg: {outputs.mean().item():.4f}, Labels avg: {labels.mean().item():.4f}\")\n",
    "\n",
    "        avg_loss = total_loss / len(train_loader)\n",
    "        accuracy = correct / total * 100\n",
    "        print(f\"Epoch {epoch+1}, Avg Loss: {avg_loss:.4f}, Accuracy: {accuracy:.2f}%\")\n",
    "\n",
    "train()\n"
   ]
  },
  {
   "cell_type": "code",
   "execution_count": null,
   "metadata": {
    "colab": {
     "base_uri": "https://localhost:8080/",
     "height": 0
    },
    "id": "IJqETarzKG9b",
    "outputId": "ddc554f8-6313-4312-c46a-b37c1d7933c4"
   },
   "outputs": [],
   "source": [
    "# Word importance analysis\n",
    "weights = model.embedding.weight.data.squeeze()\n",
    "word_weights = [(inv_vocab[i], weights[i].item()) for i in range(len(weights)) if i in inv_vocab]\n",
    "sorted_words = sorted(word_weights, key=lambda x: x[1])\n",
    "\n",
    "print(\"\\n🔻 Most negative words:\")\n",
    "print([w for w, _ in sorted_words[:20]])\n",
    "\n",
    "print(\"\\n🔺 Most positive words:\")\n",
    "print([w for w, _ in sorted_words[-20:]])"
   ]
  },
  {
   "cell_type": "code",
   "execution_count": null,
   "metadata": {
    "id": "Q5wAAjlBKLKx"
   },
   "outputs": [],
   "source": []
  }
 ],
 "metadata": {
  "colab": {
   "provenance": []
  },
  "kernelspec": {
   "display_name": "Python 3 (ipykernel)",
   "language": "python",
   "name": "python3"
  },
  "language_info": {
   "codemirror_mode": {
    "name": "ipython",
    "version": 3
   },
   "file_extension": ".py",
   "mimetype": "text/x-python",
   "name": "python",
   "nbconvert_exporter": "python",
   "pygments_lexer": "ipython3",
   "version": "3.10.2"
  }
 },
 "nbformat": 4,
 "nbformat_minor": 1
}
